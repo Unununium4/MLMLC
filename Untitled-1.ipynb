{
 "cells": [
  {
   "cell_type": "code",
   "execution_count": 2,
   "metadata": {},
   "outputs": [],
   "source": [
    "import numpy as np\n",
    "import pydicom\n",
    "from pydicom.datadict import dictionary_VR\n",
    "import mapper as mp\n",
    "import random\n",
    "\n",
    "from os import listdir\n",
    "from os.path import isfile, join\n",
    "\n",
    "def convertRAMLMLCToComp(solverarray,isox, isoy, isoz, xmin, xmax, ymin, ymax, gantries, fname):\n",
    "    plan = pydicom.dcmread(r\"K:\\Physics Division\\Personal folders\\ANM\\MLMLC\\data\\template\\templateplan.dcm\")#this plan has a full arc's worth of fields in it\n",
    "    #change UIDs so we can reimport it\n",
    "    plan.RTPlanLabel+=\"BadComp\"\n",
    "    plan[0x20,0xe].value = str(random.randint(0,10000000000000000000000))#series instance id \n",
    "    plan.StudyInstanceUID = str(random.randint(0,10000000000000000000000))\n",
    "    plan.SOPInstanceUID = str(random.randint(0,10000000000000000000000))\n",
    "    \n",
    "    mlmlcfluences=mp.getSolverArrayFluences(solverarray)\n",
    "\n",
    "    xstep = solverarray[0].xStep   \n",
    "    ystep=xstep                   #in mm, ...JUST HALF CM LEAVES FOR NOW!!! \n",
    "    pad = 10  #10mm pad to the compensator\n",
    "    rpad = np.int16(np.ceil(pad/xstep))\n",
    "    cpad = np.int16(np.ceil(pad/ystep))\n",
    "    nrows = 5*solverarray[0].nRows +2*cpad#add to top and bottom.  leave is 5mm, 5x the x discretization\n",
    "    ncols = len(mlmlcfluences[0][0]) +2*rpad#add to both sides\n",
    "    xmin -= rpad*xstep\n",
    "    ymax += cpad*ystep\n",
    "\n",
    "    numcomps = len(gantries)\n",
    "    plan.FractionGroupSequence[0].NumberOfBeams = numcomps\n",
    "    numtemplatefields = len(plan.BeamSequence)\n",
    "\n",
    "\n",
    "    del plan.BeamSequence[numcomps:numtemplatefields]\n",
    "    del plan.FractionGroupSequence[0].ReferencedBeamSequence[numcomps:numtemplatefields]\n",
    "\n",
    "    for b in range(numcomps):\n",
    "        print(\"field \"+str(b+1) + \" of \" + str(numcomps))\n",
    "        plan.BeamSequence[b].ControlPointSequence[0].BeamLimitingDevicePositionSequence[0].LeafJawPositions[0]=xmin\n",
    "        plan.BeamSequence[b].ControlPointSequence[0].BeamLimitingDevicePositionSequence[0].LeafJawPositions[1]=xmax\n",
    "        plan.BeamSequence[b].ControlPointSequence[0].BeamLimitingDevicePositionSequence[1].LeafJawPositions[0]=ymin\n",
    "        plan.BeamSequence[b].ControlPointSequence[0].BeamLimitingDevicePositionSequence[1].LeafJawPositions[1]=ymax\n",
    "        plan.BeamSequence[b].ControlPointSequence[0].IsocenterPosition[0]=isox\n",
    "        plan.BeamSequence[b].ControlPointSequence[0].IsocenterPosition[1]=isoy\n",
    "        plan.BeamSequence[b].ControlPointSequence[0].IsocenterPosition[2]=isoz\n",
    "        plan.BeamSequence[b].ControlPointSequence[0].GantryAngle=gantries[b]\n",
    "\n",
    "        plan.BeamSequence[b].CompensatorSequence[0].CompensatorRows = nrows\n",
    "        plan.BeamSequence[b].CompensatorSequence[0].CompensatorColumns = ncols\n",
    "        plan.BeamSequence[b].CompensatorSequence[0].CompensatorPosition = [xmin, ymax]\n",
    "        plan.BeamSequence[b].CompensatorSequence[0].CompensatorPixelSpacing = [ystep, xstep]\n",
    "        padf=np.repeat(mlmlcfluences[b], 5, axis= 0)\n",
    "        padf=np.pad(padf,((cpad,cpad),(rpad,rpad)),'constant',constant_values=0.02)#gotta pad out to have the compensator go beyond the jaws\n",
    "        fluence = padf.flatten()\n",
    "        plan.BeamSequence[b].CompensatorSequence[0].CompensatorTransmissionData.clear()\n",
    "        plan.BeamSequence[b].CompensatorSequence[0].CompensatorThicknessData.clear()\n",
    "\n",
    "        thickness = abs(-10*np.log(fluence)/0.5538)\n",
    "        thickness = pydicom.multival.MultiValue(pydicom.valuerep.DSfloat,thickness)\n",
    "        fluence=pydicom.multival.MultiValue(pydicom.valuerep.DSfloat,fluence)\n",
    "        plan.BeamSequence[b].CompensatorSequence[0].CompensatorTransmissionData=fluence\n",
    "        plan.BeamSequence[b].CompensatorSequence[0].CompensatorThicknessData=thickness\n",
    "        \n",
    "\n",
    "    plan.save_as(fname)"
   ]
  },
  {
   "cell_type": "code",
   "execution_count": 3,
   "metadata": {},
   "outputs": [
    {
     "name": "stdout",
     "output_type": "stream",
     "text": [
      "CP: 1 of 65\n",
      "Best weight: 0.9\n",
      "CP: 2 of 65\n",
      "Best weight: 1.0\n",
      "CP: 3 of 65\n",
      "Best weight: 1.0\n",
      "CP: 4 of 65\n",
      "Best weight: 1.0\n",
      "CP: 5 of 65\n",
      "Best weight: 1.0\n",
      "CP: 6 of 65\n",
      "Best weight: 1.0\n",
      "CP: 7 of 65\n",
      "Best weight: 1.0\n",
      "CP: 8 of 65\n",
      "Best weight: 1.0\n",
      "CP: 9 of 65\n",
      "Best weight: 1.0\n",
      "CP: 10 of 65\n",
      "Best weight: 0.9\n",
      "CP: 11 of 65\n",
      "Best weight: 0.9\n",
      "CP: 12 of 65\n",
      "Best weight: 0.9\n",
      "CP: 13 of 65\n",
      "Best weight: 0.9\n",
      "CP: 14 of 65\n",
      "Best weight: 0.9\n",
      "CP: 15 of 65\n",
      "Best weight: 0.9\n",
      "CP: 16 of 65\n",
      "Best weight: 0.9\n",
      "CP: 17 of 65\n",
      "Best weight: 0.9\n",
      "CP: 18 of 65\n",
      "Best weight: 0.9\n",
      "CP: 19 of 65\n",
      "Best weight: 0.9\n",
      "CP: 20 of 65\n",
      "Best weight: 0.9\n",
      "CP: 21 of 65\n",
      "Best weight: 0.9\n",
      "CP: 22 of 65\n",
      "Best weight: 0.9\n",
      "CP: 23 of 65\n",
      "Best weight: 0.9\n",
      "CP: 24 of 65\n",
      "Best weight: 0.9\n",
      "CP: 25 of 65\n",
      "Best weight: 0.9\n",
      "CP: 26 of 65\n",
      "Best weight: 0.9\n",
      "CP: 27 of 65\n",
      "Best weight: 0.9\n",
      "CP: 28 of 65\n",
      "Best weight: 0.9\n",
      "CP: 29 of 65\n",
      "Best weight: 0.9\n",
      "CP: 30 of 65\n",
      "Best weight: 0.9\n",
      "CP: 31 of 65\n",
      "Best weight: 0.9\n",
      "CP: 32 of 65\n",
      "Best weight: 0.9\n",
      "CP: 33 of 65\n",
      "Best weight: 0.9\n",
      "CP: 34 of 65\n",
      "Best weight: 0.9\n",
      "CP: 35 of 65\n",
      "Best weight: 1.0\n",
      "CP: 36 of 65\n",
      "Best weight: 1.0\n",
      "CP: 37 of 65\n",
      "Best weight: 1.0\n",
      "CP: 38 of 65\n",
      "Best weight: 1.0\n",
      "CP: 39 of 65\n",
      "Best weight: 1.0\n",
      "CP: 40 of 65\n",
      "Best weight: 1.0\n",
      "CP: 41 of 65\n",
      "Best weight: 1.0\n",
      "CP: 42 of 65\n",
      "Best weight: 1.0\n",
      "CP: 43 of 65\n",
      "Best weight: 1.0\n",
      "CP: 44 of 65\n",
      "Best weight: 1.0\n",
      "CP: 45 of 65\n",
      "Best weight: 1.0\n",
      "CP: 46 of 65\n",
      "Best weight: 1.0\n",
      "CP: 47 of 65\n",
      "Best weight: 1.0\n",
      "CP: 48 of 65\n",
      "Best weight: 1.0\n",
      "CP: 49 of 65\n",
      "Best weight: 1.0\n",
      "CP: 50 of 65\n",
      "Best weight: 1.0\n",
      "CP: 51 of 65\n",
      "Best weight: 1.0\n",
      "CP: 52 of 65\n",
      "Best weight: 0.9\n",
      "CP: 53 of 65\n",
      "Best weight: 0.9\n",
      "CP: 54 of 65\n",
      "Best weight: 0.9\n",
      "CP: 55 of 65\n",
      "Best weight: 0.9\n",
      "CP: 56 of 65\n",
      "Best weight: 0.9\n",
      "CP: 57 of 65\n",
      "Best weight: 0.9\n",
      "CP: 58 of 65\n",
      "Best weight: 0.9\n",
      "CP: 59 of 65\n",
      "Best weight: 0.9\n",
      "CP: 60 of 65\n",
      "Best weight: 0.9\n",
      "CP: 61 of 65\n",
      "Best weight: 0.9\n",
      "CP: 62 of 65\n",
      "Best weight: 0.9\n",
      "CP: 63 of 65\n",
      "Best weight: 0.9\n",
      "CP: 64 of 65\n",
      "Best weight: 0.9\n",
      "CP: 65 of 65\n",
      "Best weight: 0.9\n",
      "*******LEAF SOLVE COMPLETED***********  T: 92.8 s\n",
      "writing file...\n"
     ]
    },
    {
     "name": "stderr",
     "output_type": "stream",
     "text": [
      "c:\\Users\\ANMORROW\\AppData\\Local\\Programs\\Python\\Python310\\lib\\site-packages\\pydicom\\valuerep.py:290: UserWarning: The value length (20) exceeds the maximum length of 16 allowed for VR SH.\n",
      "  warnings.warn(msg)\n"
     ]
    },
    {
     "name": "stdout",
     "output_type": "stream",
     "text": [
      "field 1 of 65\n",
      "field 2 of 65\n",
      "field 3 of 65\n",
      "field 4 of 65\n",
      "field 5 of 65\n",
      "field 6 of 65\n",
      "field 7 of 65\n",
      "field 8 of 65\n",
      "field 9 of 65\n",
      "field 10 of 65\n",
      "field 11 of 65\n",
      "field 12 of 65\n",
      "field 13 of 65\n",
      "field 14 of 65\n",
      "field 15 of 65\n",
      "field 16 of 65\n",
      "field 17 of 65\n",
      "field 18 of 65\n",
      "field 19 of 65\n",
      "field 20 of 65\n",
      "field 21 of 65\n",
      "field 22 of 65\n",
      "field 23 of 65\n",
      "field 24 of 65\n",
      "field 25 of 65\n",
      "field 26 of 65\n",
      "field 27 of 65\n",
      "field 28 of 65\n",
      "field 29 of 65\n",
      "field 30 of 65\n",
      "field 31 of 65\n",
      "field 32 of 65\n",
      "field 33 of 65\n",
      "field 34 of 65\n",
      "field 35 of 65\n",
      "field 36 of 65\n",
      "field 37 of 65\n",
      "field 38 of 65\n",
      "field 39 of 65\n",
      "field 40 of 65\n",
      "field 41 of 65\n",
      "field 42 of 65\n",
      "field 43 of 65\n",
      "field 44 of 65\n",
      "field 45 of 65\n",
      "field 46 of 65\n",
      "field 47 of 65\n",
      "field 48 of 65\n",
      "field 49 of 65\n",
      "field 50 of 65\n",
      "field 51 of 65\n",
      "field 52 of 65\n",
      "field 53 of 65\n",
      "field 54 of 65\n",
      "field 55 of 65\n",
      "field 56 of 65\n",
      "field 57 of 65\n",
      "field 58 of 65\n",
      "field 59 of 65\n",
      "field 60 of 65\n",
      "field 61 of 65\n",
      "field 62 of 65\n",
      "field 63 of 65\n",
      "field 64 of 65\n",
      "field 65 of 65\n",
      "done\n"
     ]
    }
   ],
   "source": [
    "from leafSolver import *\n",
    "import translator as tr\n",
    "import numpy as np\n",
    "import time\n",
    "import pydicom\n",
    "\n",
    "# This is the main file, excute this python script\n",
    "# =====================PARAMETERS=====================\n",
    "nLvls = 2                           # Number of layers to use\n",
    "xStep = 1                       # x discretization in mm.  use 2.5mm when doing IMRT mode cuz that's what the fluence is pieced up as.  \n",
    "searchStep = 1E-1                   # Step size for search values\n",
    "weightSearchStep = 1E-1                # Threshold of weight convergence\n",
    "maxWeight = 3                       # Maximum allowed weight\n",
    "plantype = \"ra\"\n",
    "finalfolder = r\"K:\\Physics Division\\Personal folders\\ANM\\MLMLC\\data\"\n",
    "\n",
    "if plantype == \"ra\":\n",
    "    dlg = 0.1103 #the killeen 6x DLG is 0.1103. \n",
    "    dlg=dlg/2 #per leaf\n",
    "    raplan = pydicom.dcmread(r\"K:\\Physics Division\\Personal folders\\ANM\\MLMLC\\data\\fortesting\\idealplan.dcm\")\n",
    "    tempTime = time.time()\n",
    "    idealFluencesArray = []\n",
    "    solverAvgArray = []\n",
    "    #for rapid arc plans feeding the algorithm, we have to sum together the controlpoints across the fields in the plan when they are at the same gantry angle.\n",
    "    #then we need to fit to that.\n",
    "    #we'll have to make a new RT dicom plan as well at the end.\n",
    "    #we are not allowing for jaw tracking right now, so xmin and xmax are in the first control point\n",
    "    xMin=raplan.BeamSequence[0].ControlPointSequence[0].BeamLimitingDevicePositionSequence[0].LeafJawPositions[0]\n",
    "    xMax=raplan.BeamSequence[0].ControlPointSequence[0].BeamLimitingDevicePositionSequence[0].LeafJawPositions[1]\n",
    "    yMin=raplan.BeamSequence[0].ControlPointSequence[0].BeamLimitingDevicePositionSequence[1].LeafJawPositions[0]\n",
    "    yMax=raplan.BeamSequence[0].ControlPointSequence[0].BeamLimitingDevicePositionSequence[1].LeafJawPositions[1]\n",
    "    #ypos=raplan.BeamSequence[0].BeamLimitingDeviceSequence[2].LeafPositionBoundaries #positions of the leaves in the Y direction, or just hard code it in.\n",
    "    #hard coding it in.  dont have fields bigger than 15cm (x) x 20cm(y) for now.  y goes between MLC indices 10 and 50 for half cm leaves.\n",
    "    mus=[]\n",
    "    gantries=[]\n",
    "    nx = np.int16(np.round(abs(np.round((xMax+1-xMin)/xStep))))+1\n",
    "    ny = np.int16(np.round(abs(np.round((yMax+1-yMin)/5))))\n",
    "    isoX = raplan.BeamSequence[0].ControlPointSequence[0].IsocenterPosition[0]\n",
    "    isoY = raplan.BeamSequence[0].ControlPointSequence[0].IsocenterPosition[1]\n",
    "    isoZ = raplan.BeamSequence[0].ControlPointSequence[0].IsocenterPosition[2]\n",
    "    for b in range(len(raplan.FractionGroupSequence[0].ReferencedBeamSequence)):\n",
    "        mus.append(raplan.FractionGroupSequence[0].ReferencedBeamSequence[b].BeamMeterset)\n",
    "    for cp, controlpoint in enumerate(raplan.BeamSequence[0].ControlPointSequence):\n",
    "        if cp == 0:\n",
    "            continue#skip first cp - it just has jaw positions in it at least with no jaw tracking\n",
    "        print(\"CP: \" + str(cp) + \" of \" + str(len(raplan.BeamSequence[0].ControlPointSequence)-1))\n",
    "        gantries.append(controlpoint.GantryAngle)\n",
    "        farray=np.zeros((ny, nx),dtype=np.float64)\n",
    "        for f,beam in enumerate(raplan.BeamSequence):\n",
    "\n",
    "            leaves = raplan.BeamSequence[f].ControlPointSequence[cp].BeamLimitingDevicePositionSequence[0].LeafJawPositions\n",
    "            #weight will be the mu/cp\n",
    "            cpmu = np.float64(mus[f]*(raplan.BeamSequence[0].ControlPointSequence[cp].CumulativeMetersetWeight-raplan.BeamSequence[0].ControlPointSequence[cp-1].CumulativeMetersetWeight))\n",
    "            farray = np.add(farray,tr.convertCPtoFluence(leaves,cpmu,xStep,xMin, xMax, yMin, yMax, dlg))\n",
    "        \n",
    "        params = (nLvls, xMin, xMax, xStep,searchStep, maxWeight, weightSearchStep)\n",
    "        normFluence = tr.normalizedKernel(farray,1)\n",
    "        \n",
    "        # Instantiate a solver object\n",
    "        mySolver3 = leafSolver(params)\n",
    "        solve3, ideal, x, time3 = mySolver3.solveExtend2PeakWeightLimit(normFluence)     \n",
    "        solverAvgArray.append(mySolver3)\n",
    "    t = (time.time() - tempTime)\n",
    "    print(\"*******LEAF SOLVE COMPLETED***********  T: \"+ str(t)[0:4] +\" s\")\n",
    "    print(\"writing file...\")\n",
    "    #now write the data back to the dicom file\n",
    "    tr.convertRAMLMLCToComp(solverAvgArray,isoX, isoY, isoZ, xMin ,xMax, yMin, yMax, gantries, finalfolder + r\"\\HNPreWeightCompPlan.dcm\")\n",
    "    print(\"done\")"
   ]
  },
  {
   "cell_type": "code",
   "execution_count": 4,
   "metadata": {},
   "outputs": [
    {
     "name": "stdout",
     "output_type": "stream",
     "text": [
      "field 1 of 65\n",
      "field 2 of 65\n",
      "field 3 of 65\n",
      "field 4 of 65\n",
      "field 5 of 65\n",
      "field 6 of 65\n",
      "field 7 of 65\n",
      "field 8 of 65\n",
      "field 9 of 65\n",
      "field 10 of 65\n",
      "field 11 of 65\n",
      "field 12 of 65\n",
      "field 13 of 65\n",
      "field 14 of 65\n",
      "field 15 of 65\n",
      "field 16 of 65\n",
      "field 17 of 65\n",
      "field 18 of 65\n",
      "field 19 of 65\n",
      "field 20 of 65\n",
      "field 21 of 65\n",
      "field 22 of 65\n",
      "field 23 of 65\n",
      "field 24 of 65\n",
      "field 25 of 65\n",
      "field 26 of 65\n",
      "field 27 of 65\n",
      "field 28 of 65\n",
      "field 29 of 65\n",
      "field 30 of 65\n",
      "field 31 of 65\n",
      "field 32 of 65\n",
      "field 33 of 65\n",
      "field 34 of 65\n",
      "field 35 of 65\n",
      "field 36 of 65\n",
      "field 37 of 65\n",
      "field 38 of 65\n",
      "field 39 of 65\n",
      "field 40 of 65\n",
      "field 41 of 65\n",
      "field 42 of 65\n",
      "field 43 of 65\n",
      "field 44 of 65\n",
      "field 45 of 65\n",
      "field 46 of 65\n",
      "field 47 of 65\n",
      "field 48 of 65\n",
      "field 49 of 65\n",
      "field 50 of 65\n",
      "field 51 of 65\n",
      "field 52 of 65\n",
      "field 53 of 65\n",
      "field 54 of 65\n",
      "field 55 of 65\n",
      "field 56 of 65\n",
      "field 57 of 65\n",
      "field 58 of 65\n",
      "field 59 of 65\n",
      "field 60 of 65\n",
      "field 61 of 65\n",
      "field 62 of 65\n",
      "field 63 of 65\n",
      "field 64 of 65\n",
      "field 65 of 65\n"
     ]
    }
   ],
   "source": [
    "convertRAMLMLCToComp(solverAvgArray,isoX, isoY, isoZ, xMin ,xMax, yMin, yMax, gantries, finalfolder + r\"\\HNPreWeightCompPlan.dcm\")"
   ]
  },
  {
   "cell_type": "code",
   "execution_count": 9,
   "metadata": {},
   "outputs": [
    {
     "name": "stderr",
     "output_type": "stream",
     "text": [
      "c:\\Users\\ANMORROW\\AppData\\Local\\Programs\\Python\\Python310\\lib\\site-packages\\pydicom\\valuerep.py:290: UserWarning: The value length (20) exceeds the maximum length of 16 allowed for VR SH.\n",
      "  warnings.warn(msg)\n"
     ]
    }
   ],
   "source": [
    "plan = pydicom.dcmread(r\"K:\\Physics Division\\Personal folders\\ANM\\MLMLC\\data\\template\\templateplan.dcm\")#this plan has a full arc's worth of fields in it\n",
    "#change UIDs so we can reimport it\n",
    "plan.RTPlanLabel+=\"BadComp\"\n",
    "plan[0x20,0xe].value = str(random.randint(0,10000000000000000000000))#series instance id \n",
    "plan.StudyInstanceUID = str(random.randint(0,10000000000000000000000))\n",
    "plan.SOPInstanceUID = str(random.randint(0,10000000000000000000000))\n",
    "\n",
    "mlmlcfluences=mp.getSolverArrayFluences(solverAvgArray)\n",
    "\n",
    "xstep = solverAvgArray[0].xStep   \n",
    "ystep=xstep                   #in mm, has to match xstep.  but since leaves are 5mm, we need to duplicate each row of the fluence 5x\n",
    "pad = 10  #10mm pad to the compensator\n",
    "rpad = np.int16(np.ceil(pad/xstep))\n",
    "cpad = np.int16(np.ceil(pad/ystep))\n",
    "nrows = 5*solverAvgArray[0].nRows +2*cpad#add to top and bottom  \n",
    "ncols = len(mlmlcfluences[0][0]) +2*rpad#add to both sides\n",
    "xMin -= rpad*xstep\n",
    "yMax += cpad*ystep"
   ]
  },
  {
   "cell_type": "code",
   "execution_count": 17,
   "metadata": {},
   "outputs": [
    {
     "data": {
      "text/plain": [
       "<matplotlib.image.AxesImage at 0x222319bfaf0>"
      ]
     },
     "execution_count": 17,
     "metadata": {},
     "output_type": "execute_result"
    },
    {
     "data": {
      "image/png": "[encoded data removed]",
      "text/plain": [
       "<Figure size 432x288 with 1 Axes>"
      ]
     },
     "metadata": {
      "needs_background": "light"
     },
     "output_type": "display_data"
    }
   ],
   "source": [
    "import matplotlib as plt\n",
    "t=np.repeat(mlmlcfluences[0],5, axis=0 )\n",
    "t=np.pad(t,((cpad,cpad),(rpad,rpad)),'constant',constant_values=0.02)\n",
    "plt.pyplot.imshow(t)"
   ]
  },
  {
   "cell_type": "code",
   "execution_count": 16,
   "metadata": {},
   "outputs": [
    {
     "data": {
      "text/plain": [
       "<matplotlib.image.AxesImage at 0x22231acdf90>"
      ]
     },
     "execution_count": 16,
     "metadata": {},
     "output_type": "execute_result"
    },
    {
     "data": {
      "image/png": "[encoded data removed]",
      "text/plain": [
       "<Figure size 432x288 with 1 Axes>"
      ]
     },
     "metadata": {
      "needs_background": "light"
     },
     "output_type": "display_data"
    }
   ],
   "source": [
    "plt.pyplot.imshow(np.pad(mlmlcfluences[0],((cpad,cpad),(rpad,rpad)),'constant',constant_values=0.02))"
   ]
  },
  {
   "cell_type": "code",
   "execution_count": 62,
   "metadata": {},
   "outputs": [],
   "source": [
    "t=np.pad(mlmlcfluences[0],((cpad,cpad),(rpad,rpad)),'constant',constant_values=0.02)\n",
    "t = t.flatten()\n",
    "tt=pydicom.multival.MultiValue(pydicom.valuerep.DSfloat,t)"
   ]
  },
  {
   "cell_type": "code",
   "execution_count": 83,
   "metadata": {},
   "outputs": [
    {
     "data": {
      "text/plain": [
       "8990"
      ]
     },
     "execution_count": 83,
     "metadata": {},
     "output_type": "execute_result"
    }
   ],
   "source": [
    "nrows*ncols"
   ]
  },
  {
   "cell_type": "code",
   "execution_count": 89,
   "metadata": {},
   "outputs": [
    {
     "data": {
      "text/plain": [
       "8990"
      ]
     },
     "execution_count": 89,
     "metadata": {},
     "output_type": "execute_result"
    }
   ],
   "source": [
    "(len(mlmlcfluences[0])+2*rpad)*(len(mlmlcfluences[0][0])+2*cpad)"
   ]
  },
  {
   "cell_type": "code",
   "execution_count": 99,
   "metadata": {},
   "outputs": [
    {
     "data": {
      "text/plain": [
       "171"
      ]
     },
     "execution_count": 99,
     "metadata": {},
     "output_type": "execute_result"
    }
   ],
   "source": [
    "len(mlmlcfluences[0][0])+2*rpad"
   ]
  },
  {
   "cell_type": "code",
   "execution_count": 97,
   "metadata": {},
   "outputs": [
    {
     "data": {
      "text/plain": [
       "171"
      ]
     },
     "execution_count": 97,
     "metadata": {},
     "output_type": "execute_result"
    }
   ],
   "source": [
    "len(t[0])"
   ]
  },
  {
   "cell_type": "code",
   "execution_count": 1,
   "metadata": {},
   "outputs": [
    {
     "ename": "NameError",
     "evalue": "name 'cpad' is not defined",
     "output_type": "error",
     "traceback": [
      "\u001b[1;31m---------------------------------------------------------------------------\u001b[0m",
      "\u001b[1;31mNameError\u001b[0m                                 Traceback (most recent call last)",
      "\u001b[1;32mk:\\Physics Division\\Personal folders\\ANM\\MLMLC\\6_29_22\\Untitled-1.ipynb Cell 13\u001b[0m in \u001b[0;36m<cell line: 1>\u001b[1;34m()\u001b[0m\n\u001b[1;32m----> <a href='vscode-notebook-cell:/k%3A/Physics%20Division/Personal%20folders/ANM/MLMLC/6_29_22/Untitled-1.ipynb#X15sZmlsZQ%3D%3D?line=0'>1</a>\u001b[0m cpad\n",
      "\u001b[1;31mNameError\u001b[0m: name 'cpad' is not defined"
     ]
    }
   ],
   "source": [
    "cpad"
   ]
  },
  {
   "cell_type": "code",
   "execution_count": 61,
   "metadata": {},
   "outputs": [
    {
     "data": {
      "text/plain": [
       "pydicom.valuerep.DSfloat"
      ]
     },
     "execution_count": 61,
     "metadata": {},
     "output_type": "execute_result"
    }
   ],
   "source": [
    "type(ctd[0])"
   ]
  },
  {
   "cell_type": "code",
   "execution_count": 64,
   "metadata": {},
   "outputs": [
    {
     "data": {
      "text/plain": [
       "array([0.02, 0.02, 0.02, ..., 0.02, 0.02, 0.02])"
      ]
     },
     "execution_count": 64,
     "metadata": {},
     "output_type": "execute_result"
    }
   ],
   "source": [
    "t"
   ]
  },
  {
   "cell_type": "code",
   "execution_count": 66,
   "metadata": {},
   "outputs": [
    {
     "data": {
      "text/plain": [
       "array([70.63963535, 70.63963535, 70.63963535, ..., 70.63963535,\n",
       "       70.63963535, 70.63963535])"
      ]
     },
     "execution_count": 66,
     "metadata": {},
     "output_type": "execute_result"
    }
   ],
   "source": [
    "abs(-10*np.log(t)/0.5538)"
   ]
  },
  {
   "cell_type": "code",
   "execution_count": null,
   "metadata": {},
   "outputs": [],
   "source": []
  }
 ],
 "metadata": {
  "kernelspec": {
   "display_name": "Python 3.10.5 64-bit",
   "language": "python",
   "name": "python3"
  },
  "language_info": {
   "codemirror_mode": {
    "name": "ipython",
    "version": 3
   },
   "file_extension": ".py",
   "mimetype": "text/x-python",
   "name": "python",
   "nbconvert_exporter": "python",
   "pygments_lexer": "ipython3",
   "version": "3.10.5"
  },
  "orig_nbformat": 4,
  "vscode": {
   "interpreter": {
    "hash": "1bae663c064524d9e35a8d0cb49be53d2de2c2f9d842e7308e392246e45c1b67"
   }
  }
 },
 "nbformat": 4,
 "nbformat_minor": 2
}
